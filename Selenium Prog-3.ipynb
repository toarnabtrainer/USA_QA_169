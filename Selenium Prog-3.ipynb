{
 "cells": [
  {
   "cell_type": "code",
   "execution_count": 18,
   "id": "392d7902-db41-4fa2-9d3e-54201713f663",
   "metadata": {},
   "outputs": [],
   "source": [
    "# importing required modules\n",
    "from selenium import webdriver"
   ]
  },
  {
   "cell_type": "code",
   "execution_count": 19,
   "id": "2b0ea625-a2fe-436e-8514-bc7f9dd28f96",
   "metadata": {},
   "outputs": [
    {
     "name": "stdout",
     "output_type": "stream",
     "text": [
      "4.1.3\n"
     ]
    }
   ],
   "source": [
    "# check the version of the webdriver\n",
    "print (webdriver.__version__)"
   ]
  },
  {
   "cell_type": "code",
   "execution_count": 20,
   "id": "87a8788a-1a60-4b16-8baf-2b6f735994d5",
   "metadata": {},
   "outputs": [
    {
     "name": "stderr",
     "output_type": "stream",
     "text": [
      "<ipython-input-20-1fb0d73db355>:3: DeprecationWarning: executable_path has been deprecated, please pass in a Service object\n",
      "  driver = webdriver.Chrome(executable_path=\"./chromedriver.exe\")\n"
     ]
    }
   ],
   "source": [
    "# please check chromedriver.exe is present in the same directory or not\n",
    "# if not then we shall have to give the relative or absolute path to access the file to execute\n",
    "driver = webdriver.Chrome(executable_path=\"./chromedriver.exe\")"
   ]
  },
  {
   "cell_type": "code",
   "execution_count": 21,
   "id": "4f63b117-b18f-48f1-82d2-8a4b68e96577",
   "metadata": {},
   "outputs": [],
   "source": [
    "# now to go to the website for currency conversion\n",
    "driver.get(\"https://www.calculator.net/currency-calculator.html\")"
   ]
  },
  {
   "cell_type": "code",
   "execution_count": 22,
   "id": "6532d880-4290-4ab1-bb98-6f7d6228c6ea",
   "metadata": {},
   "outputs": [],
   "source": [
    "# now select the checkbox from selenium library to get HTML select tags\n",
    "from selenium.webdriver.support.ui import Select"
   ]
  },
  {
   "cell_type": "code",
   "execution_count": 23,
   "id": "8fbc37c2-f524-458b-a4ca-3173530f1cae",
   "metadata": {},
   "outputs": [],
   "source": [
    "# now select the FROM currency as INR, To currency as USD from the given drop down menu\n",
    "# from_currency = Select(driver.find_element_by_xpath('//*[@id=\"efrom\"]'))\n",
    "from_currency = Select(driver.find_element('id', \"efrom\"))\n",
    "from_currency.select_by_visible_text(\"INR: Indian Rupee\")"
   ]
  },
  {
   "cell_type": "code",
   "execution_count": 24,
   "id": "fc03e4e4-916c-4f0d-94fb-2aef25043a0c",
   "metadata": {},
   "outputs": [],
   "source": [
    "# to_currency = Select(driver.find_element_by_xpath('//*[@id=\"eto\"]'))\n",
    "to_currency = Select(driver.find_element('id', \"eto\"))\n",
    "to_currency.select_by_value(\"USD\")"
   ]
  },
  {
   "cell_type": "code",
   "execution_count": 25,
   "id": "51fafe55-aba7-43e0-9c7b-ddaf5e9878ae",
   "metadata": {},
   "outputs": [],
   "source": [
    "# amount_textbox = driver.find_element_by_xpath('//*[@id=\"eamount\"]')\n",
    "amount_textbox = driver.find_element('id', \"eamount\")\n",
    "amount_textbox.clear()\n",
    "amount_textbox.send_keys('500')"
   ]
  },
  {
   "cell_type": "code",
   "execution_count": 26,
   "id": "d4c69c75-eed8-4267-844a-c14513dd2c84",
   "metadata": {},
   "outputs": [],
   "source": [
    "# click on the calculate button\n",
    "# calculate_button = driver.find_element_by_xpath('//*[@id=\"standard\"]/tbody/tr[5]/td[2]/input[2]')\n",
    "calculate_button = driver.find_element('xpath', '//*[@id=\"standard\"]/tbody/tr[5]/td[2]/input[2]')\n",
    "calculate_button.click()"
   ]
  },
  {
   "cell_type": "code",
   "execution_count": 27,
   "id": "9a32a32b-8874-460a-8b4d-c89da9c15641",
   "metadata": {},
   "outputs": [],
   "source": [
    "# now handle checkbox to get all available currencies\n",
    "# checkbox = driver.find_element_by_xpath('//*[@id=\"ccmajorccsettingbox\"]')\n",
    "checkbox = driver.find_element('id', \"ccmajorccsettingbox\")\n",
    "\n",
    "# if this checkbox is checked, uncheck it by the help of the javascript executer\n",
    "if (checkbox.is_selected()):\n",
    "    driver.execute_script(\"arguments[0].click();\", checkbox)"
   ]
  },
  {
   "cell_type": "code",
   "execution_count": 28,
   "id": "a3dc7ee4-dfa1-49f6-b88e-03d17c945174",
   "metadata": {},
   "outputs": [],
   "source": [
    "# now select the FROM currency as INR, To currency as USD from the given drop down menu\n",
    "from_currency = Select(driver.find_element('id', \"efrom\"))\n",
    "from_currency.select_by_visible_text(\"ZWL: Zimbabwean Dollar\")"
   ]
  },
  {
   "cell_type": "code",
   "execution_count": 29,
   "id": "6e6b9fd1-ba33-4142-9c6c-b9868b6dcabd",
   "metadata": {},
   "outputs": [],
   "source": [
    "# amount_textbox = driver.find_element_by_xpath('//*[@id=\"eamount\"]')\n",
    "amount_textbox = driver.find_element('id', \"eamount\")\n",
    "amount_textbox.clear()\n",
    "amount_textbox.send_keys('700')"
   ]
  },
  {
   "cell_type": "code",
   "execution_count": 30,
   "id": "23d3d32b-29a4-4d9b-8b65-6c3fe57b3d33",
   "metadata": {},
   "outputs": [],
   "source": [
    "# click on the calculate button\n",
    "# calculate_button = driver.find_element_by_xpath('//*[@id=\"standard\"]/tbody/tr[5]/td[2]/input[2]')\n",
    "calculate_button = driver.find_element('xpath', '//*[@id=\"standard\"]/tbody/tr[5]/td[2]/input[2]')\n",
    "calculate_button.click()"
   ]
  },
  {
   "cell_type": "code",
   "execution_count": 31,
   "id": "6c7fa0cc-f4d4-4b3a-8b82-86851aa91e77",
   "metadata": {},
   "outputs": [],
   "source": [
    "driver.quit()"
   ]
  },
  {
   "cell_type": "code",
   "execution_count": null,
   "id": "f05d1602-ea51-4d3a-87b3-61227b7ece07",
   "metadata": {},
   "outputs": [],
   "source": []
  }
 ],
 "metadata": {
  "kernelspec": {
   "display_name": "Python 3",
   "language": "python",
   "name": "python3"
  },
  "language_info": {
   "codemirror_mode": {
    "name": "ipython",
    "version": 3
   },
   "file_extension": ".py",
   "mimetype": "text/x-python",
   "name": "python",
   "nbconvert_exporter": "python",
   "pygments_lexer": "ipython3",
   "version": "3.8.8"
  }
 },
 "nbformat": 4,
 "nbformat_minor": 5
}
