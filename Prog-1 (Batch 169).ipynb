{
 "cells": [
  {
   "cell_type": "code",
   "execution_count": 1,
   "id": "587f0503-cd15-43c7-b76f-8b2c6a5b464c",
   "metadata": {},
   "outputs": [],
   "source": [
    "# Python comment line"
   ]
  },
  {
   "cell_type": "code",
   "execution_count": 3,
   "id": "53071af8-730a-40d2-b8e2-c7f1acb16c03",
   "metadata": {},
   "outputs": [
    {
     "name": "stdin",
     "output_type": "stream",
     "text": [
      "Please enter the first number:  100\n",
      "Please enter the second number:  400\n"
     ]
    },
    {
     "name": "stdout",
     "output_type": "stream",
     "text": [
      "100 <class 'str'>\n",
      "400 <class 'str'>\n",
      "So the sum of 100 + 400 is 100400\n"
     ]
    }
   ],
   "source": [
    "num1 = input(\"Please enter the first number: \")\n",
    "num2 = input(\"Please enter the second number: \")\n",
    "print (num1, type(num1))\n",
    "print (num2, type(num2))\n",
    "total = num1 + num2\n",
    "print (\"So the sum of\", num1, \"+\", num2, \"is\", total)"
   ]
  },
  {
   "cell_type": "code",
   "execution_count": 5,
   "id": "bc0f52e7-d57f-4cbe-a286-986cf3c65d36",
   "metadata": {},
   "outputs": [
    {
     "name": "stdin",
     "output_type": "stream",
     "text": [
      "Please enter the first number:  100\n",
      "Please enter the second number:  400\n"
     ]
    },
    {
     "name": "stdout",
     "output_type": "stream",
     "text": [
      "100 <class 'int'>\n",
      "400 <class 'int'>\n",
      "So the sum of 100 + 400 is 500\n"
     ]
    }
   ],
   "source": [
    "num1 = int(input(\"Please enter the first number: \"))\n",
    "num2 = int(input(\"Please enter the second number: \"))\n",
    "print (num1, type(num1))\n",
    "print (num2, type(num2))\n",
    "total = num1 + num2\n",
    "print (\"So the sum of\", num1, \"+\", num2, \"is\", total)"
   ]
  },
  {
   "cell_type": "code",
   "execution_count": 13,
   "id": "6deac4c8-25ac-4894-bc88-38952ae2ee22",
   "metadata": {},
   "outputs": [
    {
     "name": "stdout",
     "output_type": "stream",
     "text": [
      "So the sum of 100 + 400 is 500\n",
      "So the sum of 100 + 400 is 500\n",
      "So the sum of 100 + 400 is 500\n",
      "So the sum of 100 + 400 is 500\n",
      "So the sum of 100 + 400 is 500\n",
      "So the sum of 100 + 400 is 500\n",
      "So the sum of 100 + 400 is 500\n"
     ]
    }
   ],
   "source": [
    "print (\"So the sum of\", num1, \"+\", num2, \"is\", total)\n",
    "print (\"So the sum of {} + {} is {}\".format(num1, num2, total))    # placeholder\n",
    "print (\"So the sum of {0} + {1} is {2}\".format(num1, num2, total))    # indexed placeholder\n",
    "print (\"So the sum of {fnum} + {snum} is {result}\".format(fnum = num1, snum = num2, result = total))    # labeled placeholder\n",
    "print (\"So the sum of {fnum} + {snum} is {result}\".format(result = total, snum = num2, fnum = num1))    # labeled placeholder\n",
    "print (\"So the sum of %d + %d is %d\"%(num1, num2, total))\n",
    "print (f\"So the sum of {num1} + {num2} is {total}\")"
   ]
  },
  {
   "cell_type": "code",
   "execution_count": 23,
   "id": "337a98e1-b1b2-41ff-80a2-14753001df2e",
   "metadata": {},
   "outputs": [
    {
     "name": "stdin",
     "output_type": "stream",
     "text": [
      "Please enter the first number:  100\n",
      "Please enter the second number:  300\n",
      "Please enter the third number:  200\n"
     ]
    },
    {
     "name": "stdout",
     "output_type": "stream",
     "text": [
      "So the second number is the maximum number...\n",
      "So the maximum number is 300\n",
      "End of the program...\n"
     ]
    }
   ],
   "source": [
    "# conditional statements\n",
    "# find the maximum number out of three user given numbers\n",
    "num1 = int(input(\"Please enter the first number: \"))\n",
    "num2 = int(input(\"Please enter the second number: \"))\n",
    "num3 = int(input(\"Please enter the third number: \"))\n",
    "if (num1 > num2):\n",
    "    if (num1 > num3):\n",
    "        print (\"So the first number is the maximum number...\")\n",
    "        print (\"So the maximum number is\", num1)\n",
    "    else:\n",
    "        print (\"So the third number is the maximum number...\")\n",
    "        print (\"So the maximum number is\", num3)\n",
    "elif (num2 > num3):\n",
    "    print (\"So the second number is the maximum number...\")\n",
    "    print (\"So the maximum number is\", num2)\n",
    "else:\n",
    "    print (\"So the third number is the maximum number...\")\n",
    "    print (\"So the maximum number is\", num3)\n",
    "    \n",
    "print (\"End of the program...\")"
   ]
  },
  {
   "cell_type": "code",
   "execution_count": null,
   "id": "c9b30ce8-6cc6-461d-9bfe-019864566074",
   "metadata": {},
   "outputs": [],
   "source": []
  },
  {
   "cell_type": "code",
   "execution_count": null,
   "id": "a5c4591c-859e-43ba-8229-f78ef2a435af",
   "metadata": {},
   "outputs": [],
   "source": []
  },
  {
   "cell_type": "code",
   "execution_count": null,
   "id": "5a68388a-0879-4ccc-be8a-8116765e14bd",
   "metadata": {},
   "outputs": [],
   "source": []
  }
 ],
 "metadata": {
  "kernelspec": {
   "display_name": "Python 3",
   "language": "python",
   "name": "python3"
  },
  "language_info": {
   "codemirror_mode": {
    "name": "ipython",
    "version": 3
   },
   "file_extension": ".py",
   "mimetype": "text/x-python",
   "name": "python",
   "nbconvert_exporter": "python",
   "pygments_lexer": "ipython3",
   "version": "3.8.8"
  }
 },
 "nbformat": 4,
 "nbformat_minor": 5
}
