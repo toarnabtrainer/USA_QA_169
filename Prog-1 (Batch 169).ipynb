{
 "cells": [
  {
   "cell_type": "code",
   "execution_count": 1,
   "id": "587f0503-cd15-43c7-b76f-8b2c6a5b464c",
   "metadata": {},
   "outputs": [],
   "source": [
    "# Python comment line"
   ]
  },
  {
   "cell_type": "code",
   "execution_count": 3,
   "id": "53071af8-730a-40d2-b8e2-c7f1acb16c03",
   "metadata": {},
   "outputs": [
    {
     "name": "stdin",
     "output_type": "stream",
     "text": [
      "Please enter the first number:  100\n",
      "Please enter the second number:  400\n"
     ]
    },
    {
     "name": "stdout",
     "output_type": "stream",
     "text": [
      "100 <class 'str'>\n",
      "400 <class 'str'>\n",
      "So the sum of 100 + 400 is 100400\n"
     ]
    }
   ],
   "source": [
    "num1 = input(\"Please enter the first number: \")\n",
    "num2 = input(\"Please enter the second number: \")\n",
    "print (num1, type(num1))\n",
    "print (num2, type(num2))\n",
    "total = num1 + num2\n",
    "print (\"So the sum of\", num1, \"+\", num2, \"is\", total)"
   ]
  },
  {
   "cell_type": "code",
   "execution_count": 5,
   "id": "bc0f52e7-d57f-4cbe-a286-986cf3c65d36",
   "metadata": {},
   "outputs": [
    {
     "name": "stdin",
     "output_type": "stream",
     "text": [
      "Please enter the first number:  100\n",
      "Please enter the second number:  400\n"
     ]
    },
    {
     "name": "stdout",
     "output_type": "stream",
     "text": [
      "100 <class 'int'>\n",
      "400 <class 'int'>\n",
      "So the sum of 100 + 400 is 500\n"
     ]
    }
   ],
   "source": [
    "num1 = int(input(\"Please enter the first number: \"))\n",
    "num2 = int(input(\"Please enter the second number: \"))\n",
    "print (num1, type(num1))\n",
    "print (num2, type(num2))\n",
    "total = num1 + num2\n",
    "print (\"So the sum of\", num1, \"+\", num2, \"is\", total)"
   ]
  },
  {
   "cell_type": "code",
   "execution_count": 13,
   "id": "6deac4c8-25ac-4894-bc88-38952ae2ee22",
   "metadata": {},
   "outputs": [
    {
     "name": "stdout",
     "output_type": "stream",
     "text": [
      "So the sum of 100 + 400 is 500\n",
      "So the sum of 100 + 400 is 500\n",
      "So the sum of 100 + 400 is 500\n",
      "So the sum of 100 + 400 is 500\n",
      "So the sum of 100 + 400 is 500\n",
      "So the sum of 100 + 400 is 500\n",
      "So the sum of 100 + 400 is 500\n"
     ]
    }
   ],
   "source": [
    "print (\"So the sum of\", num1, \"+\", num2, \"is\", total)\n",
    "print (\"So the sum of {} + {} is {}\".format(num1, num2, total))    # placeholder\n",
    "print (\"So the sum of {0} + {1} is {2}\".format(num1, num2, total))    # indexed placeholder\n",
    "print (\"So the sum of {fnum} + {snum} is {result}\".format(fnum = num1, snum = num2, result = total))    # labeled placeholder\n",
    "print (\"So the sum of {fnum} + {snum} is {result}\".format(result = total, snum = num2, fnum = num1))    # labeled placeholder\n",
    "print (\"So the sum of %d + %d is %d\"%(num1, num2, total))\n",
    "print (f\"So the sum of {num1} + {num2} is {total}\")"
   ]
  },
  {
   "cell_type": "code",
   "execution_count": 23,
   "id": "337a98e1-b1b2-41ff-80a2-14753001df2e",
   "metadata": {},
   "outputs": [
    {
     "name": "stdin",
     "output_type": "stream",
     "text": [
      "Please enter the first number:  100\n",
      "Please enter the second number:  300\n",
      "Please enter the third number:  200\n"
     ]
    },
    {
     "name": "stdout",
     "output_type": "stream",
     "text": [
      "So the second number is the maximum number...\n",
      "So the maximum number is 300\n",
      "End of the program...\n"
     ]
    }
   ],
   "source": [
    "# conditional statements\n",
    "# find the maximum number out of three user given numbers\n",
    "num1 = int(input(\"Please enter the first number: \"))\n",
    "num2 = int(input(\"Please enter the second number: \"))\n",
    "num3 = int(input(\"Please enter the third number: \"))\n",
    "if (num1 > num2):\n",
    "    if (num1 > num3):\n",
    "        print (\"So the first number is the maximum number...\")\n",
    "        print (\"So the maximum number is\", num1)\n",
    "    else:\n",
    "        print (\"So the third number is the maximum number...\")\n",
    "        print (\"So the maximum number is\", num3)\n",
    "elif (num2 > num3):\n",
    "    print (\"So the second number is the maximum number...\")\n",
    "    print (\"So the maximum number is\", num2)\n",
    "else:\n",
    "    print (\"So the third number is the maximum number...\")\n",
    "    print (\"So the maximum number is\", num3)\n",
    "    \n",
    "print (\"End of the program...\")"
   ]
  },
  {
   "cell_type": "code",
   "execution_count": 1,
   "id": "e1653a35-e63b-43ea-ad5d-b6c766dbdb8f",
   "metadata": {},
   "outputs": [
    {
     "name": "stdin",
     "output_type": "stream",
     "text": [
      "Please enter the first number:  100\n",
      "Please enter the second number:  200\n",
      "Please enter the third number:  300\n"
     ]
    },
    {
     "name": "stdout",
     "output_type": "stream",
     "text": [
      "So the third number is the maximum number...\n",
      "So the maximum number is 300\n",
      "End of the program...\n"
     ]
    }
   ],
   "source": [
    "# conditional statements\n",
    "# find the maximum number out of three user given numbers\n",
    "num1 = int(input(\"Please enter the first number: \"))\n",
    "num2 = int(input(\"Please enter the second number: \"))\n",
    "num3 = int(input(\"Please enter the third number: \"))\n",
    "if (num1 > num2 and num1 > num3):\n",
    "    print (\"So the first number is the maximum number...\")\n",
    "    print (\"So the maximum number is\", num1)\n",
    "elif (num2 > num3):\n",
    "    print (\"So the second number is the maximum number...\")\n",
    "    print (\"So the maximum number is\", num2)\n",
    "else:\n",
    "    print (\"So the third number is the maximum number...\")\n",
    "    print (\"So the maximum number is\", num3)\n",
    "    \n",
    "print (\"End of the program...\")"
   ]
  },
  {
   "cell_type": "code",
   "execution_count": 2,
   "id": "a5c4591c-859e-43ba-8229-f78ef2a435af",
   "metadata": {},
   "outputs": [
    {
     "name": "stdout",
     "output_type": "stream",
     "text": [
      "Looping for i = 0\n",
      "Looping for i = 1\n",
      "Looping for i = 2\n",
      "Looping for i = 3\n",
      "Looping for i = 4\n",
      "Looping for i = 5\n",
      "Looping for i = 6\n",
      "Looping for i = 7\n",
      "Looping for i = 8\n",
      "Looping for i = 9\n",
      "Else block is executing...\n",
      "End of the program...\n"
     ]
    }
   ],
   "source": [
    "# Python for loop\n",
    "for i in range(0, 10):\n",
    "    print (\"Looping for i =\", i)\n",
    "else:\n",
    "    print (\"Else block is executing...\")\n",
    "    \n",
    "print (\"End of the program...\")"
   ]
  },
  {
   "cell_type": "code",
   "execution_count": 3,
   "id": "5a68388a-0879-4ccc-be8a-8116765e14bd",
   "metadata": {},
   "outputs": [
    {
     "name": "stdout",
     "output_type": "stream",
     "text": [
      "Looping for i = 0\n",
      "Looping for i = 2\n",
      "Looping for i = 4\n",
      "Looping for i = 6\n",
      "Looping for i = 8\n",
      "Else block is executing...\n",
      "End of the program...\n"
     ]
    }
   ],
   "source": [
    "# Python for loop\n",
    "for i in range(0, 10, 2):\n",
    "    print (\"Looping for i =\", i)\n",
    "else:\n",
    "    print (\"Else block is executing...\")\n",
    "    \n",
    "print (\"End of the program...\")"
   ]
  },
  {
   "cell_type": "code",
   "execution_count": 4,
   "id": "1df040e8-46c0-40ac-b9fe-e4e022def786",
   "metadata": {},
   "outputs": [
    {
     "name": "stdout",
     "output_type": "stream",
     "text": [
      "Looping for i = 0\n",
      "Looping for i = 3\n",
      "Looping for i = 6\n",
      "Looping for i = 9\n",
      "Else block is executing...\n",
      "End of the program...\n"
     ]
    }
   ],
   "source": [
    "# Python for loop\n",
    "for i in range(0, 10, 3):\n",
    "    print (\"Looping for i =\", i)\n",
    "else:\n",
    "    print (\"Else block is executing...\")\n",
    "    \n",
    "print (\"End of the program...\")"
   ]
  },
  {
   "cell_type": "code",
   "execution_count": 5,
   "id": "1feafc8a-5cb8-4481-9494-7b4fea8b62e4",
   "metadata": {},
   "outputs": [
    {
     "name": "stdout",
     "output_type": "stream",
     "text": [
      "Looping for i = 1\n",
      "Looping for i = 2\n",
      "Looping for i = 3\n",
      "Looping for i = 4\n",
      "Looping for i = 5\n",
      "Looping for i = 6\n",
      "Looping for i = 7\n",
      "Looping for i = 8\n",
      "Looping for i = 9\n",
      "Looping for i = 10\n",
      "Else block is executing...\n",
      "End of the program...\n"
     ]
    }
   ],
   "source": [
    "# Python while loop\n",
    "i = 1\n",
    "while (i <= 10):\n",
    "    print (\"Looping for i =\", i)\n",
    "    i += 1\n",
    "else:\n",
    "    print (\"Else block is executing...\")\n",
    "    \n",
    "print (\"End of the program...\")"
   ]
  },
  {
   "cell_type": "code",
   "execution_count": 6,
   "id": "4695686a-ba78-4b69-9637-8b778f481ad7",
   "metadata": {},
   "outputs": [
    {
     "name": "stdout",
     "output_type": "stream",
     "text": [
      "Looping for i = 1\n",
      "Looping for i = 3\n",
      "Looping for i = 5\n",
      "Looping for i = 7\n",
      "Looping for i = 9\n",
      "Else block is executing...\n",
      "End of the program...\n"
     ]
    }
   ],
   "source": [
    "# Python while loop\n",
    "i = 1\n",
    "while (i <= 10):\n",
    "    print (\"Looping for i =\", i)\n",
    "    i += 2\n",
    "else:\n",
    "    print (\"Else block is executing...\")\n",
    "    \n",
    "print (\"End of the program...\")"
   ]
  },
  {
   "cell_type": "code",
   "execution_count": 10,
   "id": "bc1d8db3-1fa3-49c4-ac7b-3494197e7f89",
   "metadata": {},
   "outputs": [
    {
     "name": "stdout",
     "output_type": "stream",
     "text": [
      "Visit Dictor...\n",
      "Good Morning...\n",
      "Day Number: 1 and Medicine Number: 1...\n",
      "Day Number: 1 and Medicine Number: 2...\n",
      "Day Number: 1 and Medicine Number: 3...\n",
      "Good Night...\n",
      "------------------------------------------------------\n",
      "Good Morning...\n",
      "Day Number: 2 and Medicine Number: 1...\n",
      "Day Number: 2 and Medicine Number: 2...\n",
      "Day Number: 2 and Medicine Number: 3...\n",
      "Good Night...\n",
      "------------------------------------------------------\n",
      "Good Morning...\n",
      "Day Number: 3 and Medicine Number: 1...\n",
      "Day Number: 3 and Medicine Number: 2...\n",
      "Day Number: 3 and Medicine Number: 3...\n",
      "Good Night...\n",
      "------------------------------------------------------\n",
      "Good Morning...\n",
      "Day Number: 4 and Medicine Number: 1...\n",
      "Day Number: 4 and Medicine Number: 2...\n",
      "Day Number: 4 and Medicine Number: 3...\n",
      "Good Night...\n",
      "------------------------------------------------------\n",
      "Good Morning...\n",
      "Day Number: 5 and Medicine Number: 1...\n",
      "Day Number: 5 and Medicine Number: 2...\n",
      "Day Number: 5 and Medicine Number: 3...\n",
      "Good Night...\n",
      "------------------------------------------------------\n",
      "So total number of medicines consumed is 15\n",
      "Thanks to Doctor...\n"
     ]
    }
   ],
   "source": [
    "print (\"Visit Dictor...\")    # 1 time\n",
    "medicount = 0\n",
    "for day in range(1, 6):\n",
    "    print (\"Good Morning...\")    # 5 times\n",
    "    for medi in range(1, 4):\n",
    "        print (f\"Day Number: {day} and Medicine Number: {medi}...\")    # 15 times\n",
    "        medicount = medicount + 1\n",
    "    print (\"Good Night...\")      # 5 times\n",
    "    print (\"------------------------------------------------------\")   # 5 times\n",
    "print (\"So total number of medicines consumed is\", medicount)\n",
    "print (\"Thanks to Doctor...\")    # 1 time"
   ]
  },
  {
   "cell_type": "code",
   "execution_count": 2,
   "id": "a5b52cb4-c66c-4d33-8131-6074358c13fa",
   "metadata": {},
   "outputs": [
    {
     "name": "stdout",
     "output_type": "stream",
     "text": [
      "1\n",
      "2\n",
      "Going again with i = 3\n",
      "4\n",
      "5\n"
     ]
    }
   ],
   "source": [
    "my_list = [1, 2, 3, 4, 5]\n",
    "for i in my_list:\n",
    "    if i == 3:\n",
    "        print (\"Going again with i =\", i)\n",
    "        continue\n",
    "    print(i)"
   ]
  },
  {
   "cell_type": "markdown",
   "id": "8963b4c1-147d-4111-b1e2-77722cc112cf",
   "metadata": {},
   "source": [
    "### User Defined Functions"
   ]
  },
  {
   "cell_type": "code",
   "execution_count": 4,
   "id": "5832600b-283b-479f-9184-aab6a0edf71d",
   "metadata": {},
   "outputs": [
    {
     "name": "stdout",
     "output_type": "stream",
     "text": [
      "Hello Hello Hello \n",
      "Hello Hello Hello \n",
      "Hello Hello Hello \n"
     ]
    }
   ],
   "source": [
    "def funct1():\n",
    "    print (\"Hello \" * 3)\n",
    "    \n",
    "funct1()\n",
    "funct1()\n",
    "funct1()"
   ]
  },
  {
   "cell_type": "code",
   "execution_count": 5,
   "id": "730c9979-ad20-436d-a032-5729f6b40e09",
   "metadata": {},
   "outputs": [
    {
     "name": "stdout",
     "output_type": "stream",
     "text": [
      "Welcome Welcome Welcome Welcome Welcome \n",
      "Hello Hello Hello \n",
      "Bye !!! Bye !!! Bye !!! Bye !!! Bye !!! Bye !!! Bye !!! Bye !!! Bye !!! Bye !!! \n"
     ]
    }
   ],
   "source": [
    "def funct2(msg, times):\n",
    "    print (msg * times)\n",
    "    \n",
    "funct2(\"Welcome \", 5)\n",
    "funct2(\"Hello \", 3)\n",
    "funct2(\"Bye !!! \", 10)"
   ]
  },
  {
   "cell_type": "code",
   "execution_count": 7,
   "id": "c0b449b4-0022-455b-89db-4588db38af0f",
   "metadata": {},
   "outputs": [
    {
     "name": "stdout",
     "output_type": "stream",
     "text": [
      "Welcome Welcome Welcome Welcome Welcome \n",
      "Hello Hello Hello \n",
      "Bye !!! Bye !!! Bye !!! Bye !!! Bye !!! Bye !!! Bye !!! Bye !!! Bye !!! Bye !!! \n"
     ]
    }
   ],
   "source": [
    "def funct3(msg, times):\n",
    "    return msg * times\n",
    "    \n",
    "result = funct3(\"Welcome \", 5)\n",
    "print (result)\n",
    "result = funct3(\"Hello \", 3)\n",
    "print (result)\n",
    "print (funct3(\"Bye !!! \", 10))"
   ]
  },
  {
   "cell_type": "code",
   "execution_count": 13,
   "id": "f1dbdddd-7427-480c-a7b7-f9d308f221e8",
   "metadata": {},
   "outputs": [
    {
     "name": "stdout",
     "output_type": "stream",
     "text": [
      "[100, 23.45, True, 'Banana', True, 'Banana'] 6 <class 'list'> 1243984910912\n",
      "(100, 23.45, True, 'Banana', True, 'Banana') 6 <class 'tuple'> 1243991044832\n",
      "{True, 'Banana', 100, 23.45} 4 <class 'set'> 1243991998976\n",
      "frozenset({True, 'Banana', 100, 23.45}) 4 <class 'frozenset'> 1243991998752\n",
      "{'mango': 100, 'banana': 200, 'orange': 50, 'guava': 75} 4 <class 'dict'> 1243985319360\n"
     ]
    }
   ],
   "source": [
    "# python inbuilt collection classes\n",
    "list1 = [100, 23.45, True, \"Banana\", True, \"Banana\"]    # mutable\n",
    "print (list1, len(list1), type(list1), id(list1))\n",
    "tuple1 = (100, 23.45, True, \"Banana\", True, \"Banana\")    # immutable\n",
    "print (tuple1, len(tuple1), type(tuple1), id(tuple1))\n",
    "set1 = {100, 23.45, True, \"Banana\", True, \"Banana\"}    # mutable\n",
    "print (set1, len(set1), type(set1), id(set1))\n",
    "frozenset1 = frozenset([100, 23.45, True, \"Banana\", True, \"Banana\"])    # immutable\n",
    "print (frozenset1, len(frozenset1), type(frozenset1), id(frozenset1))\n",
    "dict1 = {\"mango\":100, \"banana\":200, \"orange\":50, \"guava\":75}    # mutable\n",
    "print (dict1, len(dict1), type(dict1), id(dict1))"
   ]
  },
  {
   "cell_type": "code",
   "execution_count": 15,
   "id": "1e1826eb-652d-4363-af6b-827fde472872",
   "metadata": {},
   "outputs": [
    {
     "name": "stdout",
     "output_type": "stream",
     "text": [
      "Total = 140, Difference = 60, Product = 4000 and Quotient = 2.5...\n",
      "(140, 60, 4000, 2.5) 4 <class 'tuple'> 1243980979072\n",
      "Total = 140, Difference = 60, Product = 4000 and Quotient = 2.5...\n"
     ]
    }
   ],
   "source": [
    "def funct4(num1, num2):\n",
    "    total = num1 + num2\n",
    "    difference = num1 - num2\n",
    "    product = num1 * num2\n",
    "    quotient = num1 / num2\n",
    "    return total, difference, product, quotient\n",
    "\n",
    "tt, dd, pp, qq = funct4(100, 40)\n",
    "print (f\"Total = {tt}, Difference = {dd}, Product = {pp} and Quotient = {qq}...\")\n",
    "result = funct4(100, 40)\n",
    "print (result, len(result), type(result), id(result))\n",
    "print (f\"Total = {result[0]}, Difference = {result[1]}, Product = {result[2]} and Quotient = {result[3]}...\")"
   ]
  },
  {
   "cell_type": "code",
   "execution_count": 27,
   "id": "0ebe70ee-663c-4ca9-8c5a-e698eedb3527",
   "metadata": {},
   "outputs": [
    {
     "name": "stdout",
     "output_type": "stream",
     "text": [
      "Par1 = 100, Par2 = 200 and Par3 = 300...\n",
      "Par1 = 100, Par2 = 200 and Par3 = 333...\n",
      "Par1 = 100, Par2 = 222 and Par3 = 333...\n",
      "Par1 = 111, Par2 = 222 and Par3 = 333...\n",
      "Par1 = 100, Par2 = 222 and Par3 = 300...\n",
      "Par1 = 100, Par2 = 222 and Par3 = 300...\n",
      "Par1 = 111, Par2 = 200 and Par3 = 333...\n"
     ]
    }
   ],
   "source": [
    "# functions with default arguments\n",
    "def funct5(par1 = 111, par2 = 222, par3 = 333):    # positional parameters\n",
    "    print (f\"Par1 = {par1}, Par2 = {par2} and Par3 = {par3}...\")\n",
    "\n",
    "funct5(100, 200, 300)    # positional arguments\n",
    "funct5(100, 200)\n",
    "funct5(100)\n",
    "funct5()\n",
    "funct5(par1 = 100, par3 = 300)\n",
    "funct5(par3 = 300, par1 = 100)\n",
    "funct5(par2 = 200)"
   ]
  },
  {
   "cell_type": "code",
   "execution_count": 28,
   "id": "940559bd-2c9b-40f1-b573-c43ff4d11ca1",
   "metadata": {},
   "outputs": [
    {
     "name": "stdout",
     "output_type": "stream",
     "text": [
      "(100, 200) 2 <class 'tuple'> 1243991386240\n",
      "(100, 200, 400) 3 <class 'tuple'> 1243985972480\n",
      "(100, 200, 400, 600, 900) 5 <class 'tuple'> 1243991021424\n"
     ]
    }
   ],
   "source": [
    "# function with variable number of arguemnts\n",
    "def funct6(*arg):    # *arg is a variable forcefully defined as a tuple type\n",
    "    print (arg, len(arg), type(arg), id(arg))\n",
    "    \n",
    "funct6(100, 200)\n",
    "funct6(100, 200, 400)\n",
    "funct6(100, 200, 400, 600, 900)"
   ]
  },
  {
   "cell_type": "code",
   "execution_count": 30,
   "id": "42d5aa97-0902-4fd5-a2ee-d4b59ad06150",
   "metadata": {},
   "outputs": [
    {
     "name": "stdout",
     "output_type": "stream",
     "text": [
      "{'name': 'Amit', 'job': 'Developer'} 2 <class 'dict'> 1243985732480\n",
      "{'name': 'Amit', 'job': 'Developer', 'loc': 'USA', 'gender': 'male'} 4 <class 'dict'> 1243985731840\n",
      "{'name': 'Amit', 'job': 'Developer', 'loc': 'USA', 'gender': 'male', 'email': 'amit@abc.com'} 5 <class 'dict'> 1243985735040\n"
     ]
    }
   ],
   "source": [
    "def funct7(**kwarg):    # **kwarg is a variable forefully defined as a dictionary\n",
    "    print (kwarg, len(kwarg), type(kwarg), id(kwarg))\n",
    "\n",
    "funct7(name=\"Amit\", job=\"Developer\")\n",
    "funct7(name=\"Amit\", job=\"Developer\", loc=\"USA\", gender=\"male\")  \n",
    "funct7(name=\"Amit\", job=\"Developer\", loc=\"USA\", gender=\"male\", email=\"amit@abc.com\")  "
   ]
  },
  {
   "cell_type": "code",
   "execution_count": 46,
   "id": "2d1ffec7-7ae3-4e55-b87d-27fbc62179d1",
   "metadata": {},
   "outputs": [
    {
     "name": "stdout",
     "output_type": "stream",
     "text": [
      "('Amit', 'Developer') 2 <class 'tuple'> 1243991584320\n",
      "{'loc': 'USA', 'gender': 'male', 'email': 'amit@abc.com'} 3 <class 'dict'> 1243994565504\n",
      "\n",
      "('Amit', 'Developer') 2 <class 'tuple'> 1243991491520\n",
      "{} 0 <class 'dict'> 1243986311680\n",
      "\n",
      "() 0 <class 'tuple'> 1243893137472\n",
      "{'loc': 'USA', 'gender': 'male', 'email': 'amit@abc.com'} 3 <class 'dict'> 1243986414656\n",
      "<class 'function'>\n"
     ]
    }
   ],
   "source": [
    "def funct8(*arg, **kwarg):\n",
    "    print (arg, len(arg), type(arg), id(arg))\n",
    "    print (kwarg, len(kwarg), type(kwarg), id(kwarg))\n",
    "    \n",
    "funct8('Amit', 'Developer', loc='USA', gender='male', email='amit@abc.com')\n",
    "print ()\n",
    "funct8('Amit', 'Developer')\n",
    "print ()\n",
    "funct8(loc='USA', gender='male', email='amit@abc.com')\n",
    "print (type(funct8))"
   ]
  },
  {
   "cell_type": "code",
   "execution_count": 38,
   "id": "af58ee62-2e82-49ed-9c33-e4373c6a57a3",
   "metadata": {},
   "outputs": [
    {
     "name": "stdout",
     "output_type": "stream",
     "text": [
      "Executing for i = 1\n",
      "Executing for i = 2\n",
      "Executing for i = 3\n",
      "Executing for i = 4\n",
      "Executing for i = 5\n",
      "For n = 5 the calculated factorial is 120...\n"
     ]
    }
   ],
   "source": [
    "# non-recursive factorial calculating function\n",
    "def factorial_nr(num):\n",
    "    if (n == 0 or n == 1): return 1\n",
    "    fact = 1\n",
    "    for i in range(1, num + 1):\n",
    "        fact = fact * i\n",
    "        print (\"Executing for i =\", i)\n",
    "    return fact\n",
    "\n",
    "n = 5\n",
    "result = factorial_nr(n)\n",
    "print (f\"For n = {n} the calculated factorial is {result}...\")"
   ]
  },
  {
   "cell_type": "code",
   "execution_count": 40,
   "id": "98a16910-e3a1-401b-8523-012fd2c1d7c8",
   "metadata": {},
   "outputs": [
    {
     "name": "stdout",
     "output_type": "stream",
     "text": [
      "Executing for i = 2\n",
      "Executing for i = 3\n",
      "Executing for i = 4\n",
      "Executing for i = 5\n",
      "For n = 5 the calculated factorial is 120...\n"
     ]
    }
   ],
   "source": [
    "# non-recursive factorial calculating function\n",
    "def factorial_nr(num):\n",
    "    if (n == 0 or n == 1): return 1\n",
    "    fact = 1\n",
    "    for i in range(2, num + 1):\n",
    "        fact = fact * i\n",
    "        print (\"Executing for i =\", i)\n",
    "    return fact\n",
    "\n",
    "n = 5\n",
    "result = factorial_nr(n)\n",
    "print (f\"For n = {n} the calculated factorial is {result}...\")"
   ]
  },
  {
   "cell_type": "code",
   "execution_count": 41,
   "id": "66e9d354-8516-4ced-9415-676512f59eb5",
   "metadata": {},
   "outputs": [
    {
     "name": "stdout",
     "output_type": "stream",
     "text": [
      "Executing for i = 2\n",
      "Executing for i = 3\n",
      "Executing for i = 4\n",
      "For n = 5 the calculated factorial is 120...\n"
     ]
    }
   ],
   "source": [
    "# non-recursive factorial calculating function\n",
    "def factorial_nr(num):\n",
    "    if (n == 0 or n == 1): return 1\n",
    "    fact = num\n",
    "    for i in range(2, num):\n",
    "        fact = fact * i\n",
    "        print (\"Executing for i =\", i)\n",
    "    return fact\n",
    "\n",
    "n = 5\n",
    "result = factorial_nr(n)\n",
    "print (f\"For n = {n} the calculated factorial is {result}...\")"
   ]
  },
  {
   "cell_type": "code",
   "execution_count": 43,
   "id": "e9f51d20-ec34-4ee8-a6e2-c114092838b4",
   "metadata": {},
   "outputs": [
    {
     "name": "stdout",
     "output_type": "stream",
     "text": [
      "For n = 5 the calculated factorial is 120...\n"
     ]
    }
   ],
   "source": [
    "# recursive factorial calculating function: n! = n * (n -1)!\n",
    "def factorial_r(num):\n",
    "    if (num == 0 or num == 1): return 1    # base case: for certain inputs outputs are known to us\n",
    "    return num * factorial_r(num - 1)  # recursive case: the function will call itself\n",
    "\n",
    "n = 5\n",
    "result = factorial_r(n)\n",
    "print (f\"For n = {n} the calculated factorial is {result}...\")"
   ]
  },
  {
   "cell_type": "code",
   "execution_count": null,
   "id": "106bfcc5-838c-4a7a-a13d-13f27f6d6e2e",
   "metadata": {},
   "outputs": [],
   "source": [
    "5! = 5 * 4!\n",
    "         4 * 3!\n",
    "             3 * 2!\n",
    "                 2 * 1!\n",
    "                 "
   ]
  },
  {
   "cell_type": "markdown",
   "id": "efa4e0ae-b799-4ad3-b8d0-d21d381b426e",
   "metadata": {},
   "source": [
    "### Lambda Function"
   ]
  },
  {
   "cell_type": "code",
   "execution_count": 45,
   "id": "68616168-dbd0-4f9d-9198-f4002c7da5a5",
   "metadata": {},
   "outputs": [
    {
     "name": "stdout",
     "output_type": "stream",
     "text": [
      "25\n",
      "36\n",
      "49\n",
      "<class 'function'>\n"
     ]
    }
   ],
   "source": [
    "my_square = lambda num: num * num\n",
    "print (my_square(5))\n",
    "print (my_square(6))\n",
    "print (my_square(7))\n",
    "print (type(my_square))"
   ]
  },
  {
   "cell_type": "code",
   "execution_count": 47,
   "id": "0529ce39-9cf3-4076-bdc0-1efe8c404add",
   "metadata": {},
   "outputs": [
    {
     "name": "stdout",
     "output_type": "stream",
     "text": [
      "1200\n",
      "1500\n",
      "950\n",
      "<class 'function'>\n"
     ]
    }
   ],
   "source": [
    "my_addition = lambda num1, num2: num1 + num2\n",
    "print (my_addition(500, 700))\n",
    "print (my_addition(600, 900))\n",
    "print (my_addition(700, 250))\n",
    "print (type(my_addition))"
   ]
  },
  {
   "cell_type": "code",
   "execution_count": 50,
   "id": "41e4abbe-e62b-4b4d-b5ed-696e1e769440",
   "metadata": {},
   "outputs": [
    {
     "name": "stdout",
     "output_type": "stream",
     "text": [
      "Even Number\n",
      "Odd Number\n"
     ]
    }
   ],
   "source": [
    "num1 = 100\n",
    "result = \"Even Number\" if (num1 % 2 == 0) else \"Odd Number\"    # ternary operator\n",
    "print (result)\n",
    "num1 = 101\n",
    "result = \"Even Number\" if (num1 % 2 == 0) else \"Odd Number\"\n",
    "print (result)"
   ]
  },
  {
   "cell_type": "code",
   "execution_count": 51,
   "id": "b470a5bb-7334-40e6-aa46-f0543026768b",
   "metadata": {},
   "outputs": [
    {
     "name": "stdout",
     "output_type": "stream",
     "text": [
      "120\n",
      "720\n",
      "5040\n"
     ]
    }
   ],
   "source": [
    "# lambda function with recursion\n",
    "myfact = lambda num: 1 if (num == 0 or num == 1) else num * myfact(num - 1)\n",
    "print (myfact(5))\n",
    "print (myfact(6))\n",
    "print (myfact(7))"
   ]
  },
  {
   "cell_type": "code",
   "execution_count": null,
   "id": "6ad41390-8ebe-4f3f-9e5b-05b0024c6b0f",
   "metadata": {},
   "outputs": [],
   "source": []
  },
  {
   "cell_type": "code",
   "execution_count": null,
   "id": "419eba2f-c712-4988-8dd5-d6ecb15299e0",
   "metadata": {},
   "outputs": [],
   "source": []
  },
  {
   "cell_type": "code",
   "execution_count": null,
   "id": "35483058-9f95-4eb3-83e4-e290e76966ff",
   "metadata": {},
   "outputs": [],
   "source": []
  },
  {
   "cell_type": "code",
   "execution_count": null,
   "id": "2f1c015c-d0cb-4e4d-8010-0409639f10e6",
   "metadata": {},
   "outputs": [],
   "source": []
  }
 ],
 "metadata": {
  "kernelspec": {
   "display_name": "Python 3",
   "language": "python",
   "name": "python3"
  },
  "language_info": {
   "codemirror_mode": {
    "name": "ipython",
    "version": 3
   },
   "file_extension": ".py",
   "mimetype": "text/x-python",
   "name": "python",
   "nbconvert_exporter": "python",
   "pygments_lexer": "ipython3",
   "version": "3.8.8"
  }
 },
 "nbformat": 4,
 "nbformat_minor": 5
}
