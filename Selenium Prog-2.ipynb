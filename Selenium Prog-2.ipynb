{
 "cells": [
  {
   "cell_type": "markdown",
   "id": "1bc29e0f",
   "metadata": {},
   "source": [
    "### Selenium Control Options to write text, button press, select menu and others"
   ]
  },
  {
   "cell_type": "code",
   "execution_count": 21,
   "id": "fe3ea08a",
   "metadata": {},
   "outputs": [],
   "source": [
    "# importing all the required modules\n",
    "from selenium import webdriver"
   ]
  },
  {
   "cell_type": "code",
   "execution_count": 22,
   "id": "32117537",
   "metadata": {},
   "outputs": [
    {
     "name": "stdout",
     "output_type": "stream",
     "text": [
      "4.1.3\n"
     ]
    }
   ],
   "source": [
    "# check the version of Selenium\n",
    "print (webdriver.__version__)"
   ]
  },
  {
   "cell_type": "code",
   "execution_count": 23,
   "id": "dd7e922b",
   "metadata": {},
   "outputs": [
    {
     "name": "stderr",
     "output_type": "stream",
     "text": [
      "<ipython-input-23-334013c10ac7>:3: DeprecationWarning: executable_path has been deprecated, please pass in a Service object\n",
      "  driver = webdriver.Chrome(executable_path='./chromedriver.exe')\n"
     ]
    }
   ],
   "source": [
    "# please check chromedriver.exe is present in the same directory or not\n",
    "# otherwise provide the relative path\n",
    "driver = webdriver.Chrome(executable_path='./chromedriver.exe')"
   ]
  },
  {
   "cell_type": "code",
   "execution_count": 24,
   "id": "22ce665d",
   "metadata": {},
   "outputs": [],
   "source": [
    "# start a page to calculate the nCr operations\n",
    "URL = \"https://www.calculatorsoup.com/calculators/discretemathematics/combinations.php\"\n",
    "driver.get(URL)"
   ]
  },
  {
   "cell_type": "code",
   "execution_count": 27,
   "id": "0d0a5b09",
   "metadata": {},
   "outputs": [],
   "source": [
    "# inside the web-page, input the value of n\n",
    "# n_input = driver.find_element_by_xpath('//*[@id=\"n\"]')\n",
    "n_input = driver.find_element(\"id\", \"n\")\n",
    "n_input.clear()\n",
    "n_input.send_keys(\"10\")"
   ]
  },
  {
   "cell_type": "code",
   "execution_count": 28,
   "id": "60e7dae9",
   "metadata": {},
   "outputs": [],
   "source": [
    "# inside the web-page, input the value of r\n",
    "r_input = driver.find_element(\"id\", \"r\")\n",
    "r_input.clear()\n",
    "r_input.send_keys(\"6\")"
   ]
  },
  {
   "cell_type": "code",
   "execution_count": 12,
   "id": "20ff4262",
   "metadata": {},
   "outputs": [],
   "source": [
    "# to press keys, we are using this library\n",
    "from selenium.webdriver.common.keys import Keys\n",
    "\n",
    "# press tab to go to the next input area\n",
    "n_input.send_keys(Keys.TAB)\n",
    "\n",
    "# select currently selected input area\n",
    "r_input = driver.switch_to.active_element\n",
    "\n",
    "# put the value of r inside it\n",
    "r_input.clear()\n",
    "r_input.send_keys(\"5\")"
   ]
  },
  {
   "cell_type": "code",
   "execution_count": 31,
   "id": "686396f5",
   "metadata": {},
   "outputs": [],
   "source": [
    "# go to the calculate button and click it\n",
    "# calculate_button = driver.find_element_by_xpath('//*[@id=\"calculateButton\"]')\n",
    "calculate_button = driver.find_element(\"id\", \"calculateButton\")\n",
    "calculate_button.click()"
   ]
  },
  {
   "cell_type": "code",
   "execution_count": 32,
   "id": "472cb7ab",
   "metadata": {},
   "outputs": [
    {
     "name": "stdout",
     "output_type": "stream",
     "text": [
      "= 210\n"
     ]
    }
   ],
   "source": [
    "# reading result from the result_area\n",
    "# result_area = driver.find_element_by_xpath('//*[@id=\"answer\"]/div[1]')\n",
    "result_area = driver.find_element('xpath', '//*[@id=\"answer\"]/div[1]')\n",
    "result = result_area.text\n",
    "print (result)"
   ]
  },
  {
   "cell_type": "code",
   "execution_count": 19,
   "id": "668d0dd0",
   "metadata": {},
   "outputs": [
    {
     "name": "stdout",
     "output_type": "stream",
     "text": [
      "210 <class 'int'>\n"
     ]
    }
   ],
   "source": [
    "result_num = int(result[2:])\n",
    "print (result_num, type(result_num))"
   ]
  },
  {
   "cell_type": "code",
   "execution_count": 20,
   "id": "065ee93d",
   "metadata": {},
   "outputs": [],
   "source": [
    "# closing the browser\n",
    "driver.close()"
   ]
  },
  {
   "cell_type": "code",
   "execution_count": null,
   "id": "a705e32b",
   "metadata": {},
   "outputs": [],
   "source": []
  },
  {
   "cell_type": "code",
   "execution_count": null,
   "id": "5acbd0ef",
   "metadata": {},
   "outputs": [],
   "source": []
  },
  {
   "cell_type": "code",
   "execution_count": null,
   "id": "b4817838",
   "metadata": {},
   "outputs": [],
   "source": []
  },
  {
   "cell_type": "code",
   "execution_count": null,
   "id": "c17f2fa6",
   "metadata": {},
   "outputs": [],
   "source": []
  },
  {
   "cell_type": "code",
   "execution_count": null,
   "id": "1195cd7a",
   "metadata": {},
   "outputs": [],
   "source": []
  }
 ],
 "metadata": {
  "kernelspec": {
   "display_name": "Python 3",
   "language": "python",
   "name": "python3"
  },
  "language_info": {
   "codemirror_mode": {
    "name": "ipython",
    "version": 3
   },
   "file_extension": ".py",
   "mimetype": "text/x-python",
   "name": "python",
   "nbconvert_exporter": "python",
   "pygments_lexer": "ipython3",
   "version": "3.8.8"
  }
 },
 "nbformat": 4,
 "nbformat_minor": 5
}
